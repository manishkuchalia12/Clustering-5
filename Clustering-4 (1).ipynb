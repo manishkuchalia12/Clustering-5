{
 "cells": [
  {
   "cell_type": "markdown",
   "id": "b9e51450-34ca-4528-8bbf-37eaf4e1e7f3",
   "metadata": {},
   "source": [
    "Q1. Contingency Matrix for Classification Evaluation:\n",
    "\n",
    "Contingency Matrix:\n",
    "\n",
    "A contingency matrix, also known as a confusion matrix, is a table used to evaluate the performance of a classification model.\n",
    "It compares the predicted class labels with the true class labels and summarizes the results in a matrix.\n",
    "Components:\n",
    "\n",
    "True Positives (TP): Instances correctly predicted as positive.\n",
    "False Positives (FP): Instances incorrectly predicted as positive.\n",
    "True Negatives (TN): Instances correctly predicted as negative.\n",
    "False Negatives (FN): Instances incorrectly predicted as negative.\n",
    "Usage:\n",
    "\n",
    "The matrix provides a clear overview of the model's performance, helping calculate metrics such as accuracy, precision, recall, F1 score, and others.\n",
    "Q2. Pair Confusion Matrix:\n",
    "\n",
    "Difference from Regular Confusion Matrix:\n",
    "\n",
    "A pair confusion matrix is similar to a regular confusion matrix but is specifically tailored for tasks involving pairs or binary relations.\n",
    "It focuses on the correct and incorrect identification of pairs, especially in scenarios where pairs have specific significance.\n",
    "Usefulness:\n",
    "\n",
    "Particularly useful in tasks such as information retrieval, where identifying relevant pairs (e.g., document-retrieved document) is crucial.\n",
    "It provides insights into how well a model is performing in terms of pairwise relationships.\n",
    "Q3. Extrinsic Measure in Natural Language Processing (NLP):\n",
    "\n",
    "Extrinsic Measure:\n",
    "\n",
    "In NLP, an extrinsic measure evaluates the performance of a language model within the context of a specific downstream task.\n",
    "The evaluation is based on the impact of the language model's output on the overall task performance.\n",
    "Typical Usage:\n",
    "\n",
    "For example, in sentiment analysis, the extrinsic measure could be the accuracy of a sentiment classification model when applied to a dataset of customer reviews.\n",
    "Q4. Intrinsic Measure in Machine Learning:\n",
    "\n",
    "Intrinsic Measure:\n",
    "\n",
    "In machine learning, an intrinsic measure evaluates the model's performance based on its internal characteristics or behavior, without considering its application to a specific task.\n",
    "It assesses aspects such as the model's convergence, complexity, generalization, etc.\n",
    "Difference from Extrinsic Measure:\n",
    "\n",
    "While an extrinsic measure looks at the model's impact on a specific task, an intrinsic measure focuses on properties that are more intrinsic to the model itself.\n",
    "Typical Usage:\n",
    "\n",
    "Intrinsic measures may include evaluations like training loss, cross-validation performance, model complexity metrics, etc."
   ]
  }
 ],
 "metadata": {
  "kernelspec": {
   "display_name": "Python 3 (ipykernel)",
   "language": "python",
   "name": "python3"
  },
  "language_info": {
   "codemirror_mode": {
    "name": "ipython",
    "version": 3
   },
   "file_extension": ".py",
   "mimetype": "text/x-python",
   "name": "python",
   "nbconvert_exporter": "python",
   "pygments_lexer": "ipython3",
   "version": "3.12.0"
  }
 },
 "nbformat": 4,
 "nbformat_minor": 5
}
